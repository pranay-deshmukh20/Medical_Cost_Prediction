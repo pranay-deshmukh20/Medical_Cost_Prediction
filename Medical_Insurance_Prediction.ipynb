{
  "nbformat": 4,
  "nbformat_minor": 0,
  "metadata": {
    "colab": {
      "name": "Medical_Cost_Prediction.ipynb",
      "provenance": [],
      "toc_visible": true
    },
    "kernelspec": {
      "name": "python3",
      "display_name": "Python 3"
    },
    "language_info": {
      "name": "python"
    }
  },
  "cells": [
    {
      "cell_type": "markdown",
      "metadata": {
        "id": "aZ6k_Md0pNWz"
      },
      "source": [
        "## Import Libraries\n",
        "\n"
      ]
    },
    {
      "cell_type": "code",
      "metadata": {
        "id": "KZzFq0jHjsAf"
      },
      "source": [
        "\n",
        "import numpy as np\n",
        "import pandas as pd\n",
        "import matplotlib.pyplot as plt\n",
        "import seaborn as sns\n",
        "from matplotlib import pyplot as plt\n",
        "%matplotlib inline\n",
        "import matplotlib"
      ],
      "execution_count": 3,
      "outputs": []
    },
    {
      "cell_type": "markdown",
      "metadata": {
        "id": "40yuKIrupIy8"
      },
      "source": [
        "load file"
      ]
    },
    {
      "cell_type": "code",
      "metadata": {
        "colab": {
          "base_uri": "https://localhost:8080/",
          "height": 0
        },
        "id": "dwnrt1oNk11W",
        "outputId": "6b5b584e-8885-4ec2-d587-75e6c6f1e6dd"
      },
      "source": [
        "df = pd.read_csv('/content/insurance.csv')\n",
        "df.head()"
      ],
      "execution_count": 4,
      "outputs": [
        {
          "output_type": "execute_result",
          "data": {
            "text/html": [
              "<div>\n",
              "<style scoped>\n",
              "    .dataframe tbody tr th:only-of-type {\n",
              "        vertical-align: middle;\n",
              "    }\n",
              "\n",
              "    .dataframe tbody tr th {\n",
              "        vertical-align: top;\n",
              "    }\n",
              "\n",
              "    .dataframe thead th {\n",
              "        text-align: right;\n",
              "    }\n",
              "</style>\n",
              "<table border=\"1\" class=\"dataframe\">\n",
              "  <thead>\n",
              "    <tr style=\"text-align: right;\">\n",
              "      <th></th>\n",
              "      <th>age</th>\n",
              "      <th>sex</th>\n",
              "      <th>bmi</th>\n",
              "      <th>children</th>\n",
              "      <th>smoker</th>\n",
              "      <th>region</th>\n",
              "      <th>charges</th>\n",
              "    </tr>\n",
              "  </thead>\n",
              "  <tbody>\n",
              "    <tr>\n",
              "      <th>0</th>\n",
              "      <td>19</td>\n",
              "      <td>female</td>\n",
              "      <td>27.900</td>\n",
              "      <td>0</td>\n",
              "      <td>yes</td>\n",
              "      <td>southwest</td>\n",
              "      <td>16884.92400</td>\n",
              "    </tr>\n",
              "    <tr>\n",
              "      <th>1</th>\n",
              "      <td>18</td>\n",
              "      <td>male</td>\n",
              "      <td>33.770</td>\n",
              "      <td>1</td>\n",
              "      <td>no</td>\n",
              "      <td>southeast</td>\n",
              "      <td>1725.55230</td>\n",
              "    </tr>\n",
              "    <tr>\n",
              "      <th>2</th>\n",
              "      <td>28</td>\n",
              "      <td>male</td>\n",
              "      <td>33.000</td>\n",
              "      <td>3</td>\n",
              "      <td>no</td>\n",
              "      <td>southeast</td>\n",
              "      <td>4449.46200</td>\n",
              "    </tr>\n",
              "    <tr>\n",
              "      <th>3</th>\n",
              "      <td>33</td>\n",
              "      <td>male</td>\n",
              "      <td>22.705</td>\n",
              "      <td>0</td>\n",
              "      <td>no</td>\n",
              "      <td>northwest</td>\n",
              "      <td>21984.47061</td>\n",
              "    </tr>\n",
              "    <tr>\n",
              "      <th>4</th>\n",
              "      <td>32</td>\n",
              "      <td>male</td>\n",
              "      <td>28.880</td>\n",
              "      <td>0</td>\n",
              "      <td>no</td>\n",
              "      <td>northwest</td>\n",
              "      <td>3866.85520</td>\n",
              "    </tr>\n",
              "  </tbody>\n",
              "</table>\n",
              "</div>"
            ],
            "text/plain": [
              "   age     sex     bmi  children smoker     region      charges\n",
              "0   19  female  27.900         0    yes  southwest  16884.92400\n",
              "1   18    male  33.770         1     no  southeast   1725.55230\n",
              "2   28    male  33.000         3     no  southeast   4449.46200\n",
              "3   33    male  22.705         0     no  northwest  21984.47061\n",
              "4   32    male  28.880         0     no  northwest   3866.85520"
            ]
          },
          "metadata": {},
          "execution_count": 4
        }
      ]
    },
    {
      "cell_type": "code",
      "metadata": {
        "colab": {
          "base_uri": "https://localhost:8080/"
        },
        "id": "a74DlwCsk2PK",
        "outputId": "26b061cf-8ff6-4093-ff53-1194f647416f"
      },
      "source": [
        "df.shape"
      ],
      "execution_count": 5,
      "outputs": [
        {
          "output_type": "execute_result",
          "data": {
            "text/plain": [
              "(1338, 7)"
            ]
          },
          "metadata": {},
          "execution_count": 5
        }
      ]
    },
    {
      "cell_type": "code",
      "metadata": {
        "colab": {
          "base_uri": "https://localhost:8080/"
        },
        "id": "WnoIcaG-k2Tw",
        "outputId": "5d7f2d03-edad-451c-bf30-df628b3b75cf"
      },
      "source": [
        "df.info()"
      ],
      "execution_count": 6,
      "outputs": [
        {
          "output_type": "stream",
          "name": "stdout",
          "text": [
            "<class 'pandas.core.frame.DataFrame'>\n",
            "RangeIndex: 1338 entries, 0 to 1337\n",
            "Data columns (total 7 columns):\n",
            " #   Column    Non-Null Count  Dtype  \n",
            "---  ------    --------------  -----  \n",
            " 0   age       1338 non-null   int64  \n",
            " 1   sex       1338 non-null   object \n",
            " 2   bmi       1338 non-null   float64\n",
            " 3   children  1338 non-null   int64  \n",
            " 4   smoker    1338 non-null   object \n",
            " 5   region    1338 non-null   object \n",
            " 6   charges   1338 non-null   float64\n",
            "dtypes: float64(2), int64(2), object(3)\n",
            "memory usage: 73.3+ KB\n"
          ]
        }
      ]
    },
    {
      "cell_type": "code",
      "metadata": {
        "colab": {
          "base_uri": "https://localhost:8080/"
        },
        "id": "7fZyUKpImXLx",
        "outputId": "9b354c58-b236-490a-8d3d-be495607752c"
      },
      "source": [
        "df.dtypes"
      ],
      "execution_count": 7,
      "outputs": [
        {
          "output_type": "execute_result",
          "data": {
            "text/plain": [
              "age           int64\n",
              "sex          object\n",
              "bmi         float64\n",
              "children      int64\n",
              "smoker       object\n",
              "region       object\n",
              "charges     float64\n",
              "dtype: object"
            ]
          },
          "metadata": {},
          "execution_count": 7
        }
      ]
    },
    {
      "cell_type": "code",
      "metadata": {
        "colab": {
          "base_uri": "https://localhost:8080/"
        },
        "id": "GQlXrXAppzEJ",
        "outputId": "88a56bdf-ea59-4370-cfb5-f4745f3ed014"
      },
      "source": [
        "df.isnull().sum()"
      ],
      "execution_count": 8,
      "outputs": [
        {
          "output_type": "execute_result",
          "data": {
            "text/plain": [
              "age         0\n",
              "sex         0\n",
              "bmi         0\n",
              "children    0\n",
              "smoker      0\n",
              "region      0\n",
              "charges     0\n",
              "dtype: int64"
            ]
          },
          "metadata": {},
          "execution_count": 8
        }
      ]
    },
    {
      "cell_type": "code",
      "metadata": {
        "colab": {
          "base_uri": "https://localhost:8080/"
        },
        "id": "EuOPRhNYp29o",
        "outputId": "d94faa14-ac63-48d2-9851-205461cbcf9d"
      },
      "source": [
        "print(df[\"region\"].unique())"
      ],
      "execution_count": 9,
      "outputs": [
        {
          "output_type": "stream",
          "name": "stdout",
          "text": [
            "['southwest' 'southeast' 'northwest' 'northeast']\n"
          ]
        }
      ]
    },
    {
      "cell_type": "code",
      "metadata": {
        "colab": {
          "base_uri": "https://localhost:8080/"
        },
        "id": "QEzxPNDjw992",
        "outputId": "1b990a3e-99c8-4e12-d3b2-051209dc100b"
      },
      "source": [
        "df['smoker'].value_counts()"
      ],
      "execution_count": 10,
      "outputs": [
        {
          "output_type": "execute_result",
          "data": {
            "text/plain": [
              "no     1064\n",
              "yes     274\n",
              "Name: smoker, dtype: int64"
            ]
          },
          "metadata": {},
          "execution_count": 10
        }
      ]
    },
    {
      "cell_type": "code",
      "metadata": {
        "colab": {
          "base_uri": "https://localhost:8080/"
        },
        "id": "1xAOp3C2xD6K",
        "outputId": "862e81c4-4aa7-4e35-a179-0d73b5207865"
      },
      "source": [
        "df['sex'].value_counts()"
      ],
      "execution_count": 11,
      "outputs": [
        {
          "output_type": "execute_result",
          "data": {
            "text/plain": [
              "male      676\n",
              "female    662\n",
              "Name: sex, dtype: int64"
            ]
          },
          "metadata": {},
          "execution_count": 11
        }
      ]
    },
    {
      "cell_type": "code",
      "metadata": {
        "colab": {
          "base_uri": "https://localhost:8080/",
          "height": 0
        },
        "id": "in4Fefg9k2Xu",
        "outputId": "839602f1-8c2f-43b9-f538-f529701983a0"
      },
      "source": [
        "df.describe()"
      ],
      "execution_count": 12,
      "outputs": [
        {
          "output_type": "execute_result",
          "data": {
            "text/html": [
              "<div>\n",
              "<style scoped>\n",
              "    .dataframe tbody tr th:only-of-type {\n",
              "        vertical-align: middle;\n",
              "    }\n",
              "\n",
              "    .dataframe tbody tr th {\n",
              "        vertical-align: top;\n",
              "    }\n",
              "\n",
              "    .dataframe thead th {\n",
              "        text-align: right;\n",
              "    }\n",
              "</style>\n",
              "<table border=\"1\" class=\"dataframe\">\n",
              "  <thead>\n",
              "    <tr style=\"text-align: right;\">\n",
              "      <th></th>\n",
              "      <th>age</th>\n",
              "      <th>bmi</th>\n",
              "      <th>children</th>\n",
              "      <th>charges</th>\n",
              "    </tr>\n",
              "  </thead>\n",
              "  <tbody>\n",
              "    <tr>\n",
              "      <th>count</th>\n",
              "      <td>1338.000000</td>\n",
              "      <td>1338.000000</td>\n",
              "      <td>1338.000000</td>\n",
              "      <td>1338.000000</td>\n",
              "    </tr>\n",
              "    <tr>\n",
              "      <th>mean</th>\n",
              "      <td>39.207025</td>\n",
              "      <td>30.663397</td>\n",
              "      <td>1.094918</td>\n",
              "      <td>13270.422265</td>\n",
              "    </tr>\n",
              "    <tr>\n",
              "      <th>std</th>\n",
              "      <td>14.049960</td>\n",
              "      <td>6.098187</td>\n",
              "      <td>1.205493</td>\n",
              "      <td>12110.011237</td>\n",
              "    </tr>\n",
              "    <tr>\n",
              "      <th>min</th>\n",
              "      <td>18.000000</td>\n",
              "      <td>15.960000</td>\n",
              "      <td>0.000000</td>\n",
              "      <td>1121.873900</td>\n",
              "    </tr>\n",
              "    <tr>\n",
              "      <th>25%</th>\n",
              "      <td>27.000000</td>\n",
              "      <td>26.296250</td>\n",
              "      <td>0.000000</td>\n",
              "      <td>4740.287150</td>\n",
              "    </tr>\n",
              "    <tr>\n",
              "      <th>50%</th>\n",
              "      <td>39.000000</td>\n",
              "      <td>30.400000</td>\n",
              "      <td>1.000000</td>\n",
              "      <td>9382.033000</td>\n",
              "    </tr>\n",
              "    <tr>\n",
              "      <th>75%</th>\n",
              "      <td>51.000000</td>\n",
              "      <td>34.693750</td>\n",
              "      <td>2.000000</td>\n",
              "      <td>16639.912515</td>\n",
              "    </tr>\n",
              "    <tr>\n",
              "      <th>max</th>\n",
              "      <td>64.000000</td>\n",
              "      <td>53.130000</td>\n",
              "      <td>5.000000</td>\n",
              "      <td>63770.428010</td>\n",
              "    </tr>\n",
              "  </tbody>\n",
              "</table>\n",
              "</div>"
            ],
            "text/plain": [
              "               age          bmi     children       charges\n",
              "count  1338.000000  1338.000000  1338.000000   1338.000000\n",
              "mean     39.207025    30.663397     1.094918  13270.422265\n",
              "std      14.049960     6.098187     1.205493  12110.011237\n",
              "min      18.000000    15.960000     0.000000   1121.873900\n",
              "25%      27.000000    26.296250     0.000000   4740.287150\n",
              "50%      39.000000    30.400000     1.000000   9382.033000\n",
              "75%      51.000000    34.693750     2.000000  16639.912515\n",
              "max      64.000000    53.130000     5.000000  63770.428010"
            ]
          },
          "metadata": {},
          "execution_count": 12
        }
      ]
    },
    {
      "cell_type": "markdown",
      "metadata": {
        "id": "2M_0l57oqQX7"
      },
      "source": [
        "from above describe there are 75% charges is 16639 rs. and maximum charges is 63770 rs,from that  we can say that there are outliers in charges feature\n"
      ]
    },
    {
      "cell_type": "markdown",
      "metadata": {
        "id": "o2KbBor_tEtY"
      },
      "source": [
        "## EDA Analysis"
      ]
    },
    {
      "cell_type": "code",
      "metadata": {
        "colab": {
          "base_uri": "https://localhost:8080/",
          "height": 0
        },
        "id": "NYI67gKzpgf1",
        "outputId": "e17284e5-2752-421c-92ba-cf4f97ae00c2"
      },
      "source": [
        "sns.heatmap(df.corr(),annot=True)"
      ],
      "execution_count": 13,
      "outputs": [
        {
          "output_type": "execute_result",
          "data": {
            "text/plain": [
              "<matplotlib.axes._subplots.AxesSubplot at 0x7f961642f190>"
            ]
          },
          "metadata": {},
          "execution_count": 13
        },
        {
          "output_type": "display_data",
          "data": {
            "image/png": "[encoded data removed]",
            "text/plain": [
              "<Figure size 432x288 with 2 Axes>"
            ]
          },
          "metadata": {
            "needs_background": "light"
          }
        }
      ]
    },
    {
      "cell_type": "markdown",
      "metadata": {
        "id": "dYdFfftmUHVe"
      },
      "source": [
        "there is no no such correlation between any features\n"
      ]
    },
    {
      "cell_type": "code",
      "metadata": {
        "colab": {
          "base_uri": "https://localhost:8080/",
          "height": 0
        },
        "id": "ja9Wl6vPtaZ8",
        "outputId": "83945dad-6f9e-450c-94e9-82adc728add2"
      },
      "source": [
        "sns.countplot(df['smoker'],label=\"Count\")"
      ],
      "execution_count": 14,
      "outputs": [
        {
          "output_type": "stream",
          "name": "stderr",
          "text": [
            "/usr/local/lib/python3.7/dist-packages/seaborn/_decorators.py:43: FutureWarning: Pass the following variable as a keyword arg: x. From version 0.12, the only valid positional argument will be `data`, and passing other arguments without an explicit keyword will result in an error or misinterpretation.\n",
            "  FutureWarning\n"
          ]
        },
        {
          "output_type": "execute_result",
          "data": {
            "text/plain": [
              "<matplotlib.axes._subplots.AxesSubplot at 0x7f960e360850>"
            ]
          },
          "metadata": {},
          "execution_count": 14
        },
        {
          "output_type": "display_data",
          "data": {
            "image/png": "[encoded data removed]",
            "text/plain": [
              "<Figure size 432x288 with 1 Axes>"
            ]
          },
          "metadata": {
            "needs_background": "light"
          }
        }
      ]
    },
    {
      "cell_type": "code",
      "metadata": {
        "colab": {
          "base_uri": "https://localhost:8080/",
          "height": 0
        },
        "id": "KbuD5heXtacZ",
        "outputId": "d4eb48f2-4c6e-4372-e88e-e7a49551b7fd"
      },
      "source": [
        "sns.countplot(df['sex'],label=\"Count\")"
      ],
      "execution_count": 15,
      "outputs": [
        {
          "output_type": "stream",
          "name": "stderr",
          "text": [
            "/usr/local/lib/python3.7/dist-packages/seaborn/_decorators.py:43: FutureWarning: Pass the following variable as a keyword arg: x. From version 0.12, the only valid positional argument will be `data`, and passing other arguments without an explicit keyword will result in an error or misinterpretation.\n",
            "  FutureWarning\n"
          ]
        },
        {
          "output_type": "execute_result",
          "data": {
            "text/plain": [
              "<matplotlib.axes._subplots.AxesSubplot at 0x7f960de88b10>"
            ]
          },
          "metadata": {},
          "execution_count": 15
        },
        {
          "output_type": "display_data",
          "data": {
            "image/png": "[encoded data removed]",
            "text/plain": [
              "<Figure size 432x288 with 1 Axes>"
            ]
          },
          "metadata": {
            "needs_background": "light"
          }
        }
      ]
    },
    {
      "cell_type": "code",
      "metadata": {
        "colab": {
          "base_uri": "https://localhost:8080/"
        },
        "id": "DhUlqDnqzs1N",
        "outputId": "b10dadda-d912-45b2-e09c-1da528e03b84"
      },
      "source": [
        "# Get the max bmi\n",
        "print(df['bmi'].max()) "
      ],
      "execution_count": 16,
      "outputs": [
        {
          "output_type": "stream",
          "name": "stdout",
          "text": [
            "53.13\n"
          ]
        }
      ]
    },
    {
      "cell_type": "code",
      "metadata": {
        "id": "jjrt3Gdgz9uc"
      },
      "source": [
        "\n",
        "# Group the bmi in bins\n",
        "labels = [\"{0} - {1}\".format(i, i + 11) for i in range(1, 60, 12)]\n",
        "\n",
        "df['bmi_group'] = pd.cut(df.bmi, range(1, 72, 12), right=False, labels=labels)\n",
        "\n",
        "#Use cut when you need to segment and sort data values into bins. "
      ],
      "execution_count": 17,
      "outputs": []
    },
    {
      "cell_type": "code",
      "metadata": {
        "colab": {
          "base_uri": "https://localhost:8080/"
        },
        "id": "3-6Dhp3T3MxC",
        "outputId": "5e0cc242-59bd-4eec-95bf-95e6f56b1293"
      },
      "source": [
        "df['bmi_group'].value_counts()"
      ],
      "execution_count": 18,
      "outputs": [
        {
          "output_type": "execute_result",
          "data": {
            "text/plain": [
              "25 - 36    889\n",
              "13 - 24    245\n",
              "37 - 48    200\n",
              "49 - 60      4\n",
              "1 - 12       0\n",
              "Name: bmi_group, dtype: int64"
            ]
          },
          "metadata": {},
          "execution_count": 18
        }
      ]
    },
    {
      "cell_type": "code",
      "metadata": {
        "colab": {
          "base_uri": "https://localhost:8080/"
        },
        "id": "4YLobzd13hN5",
        "outputId": "31d3ba99-0321-4c94-9b5d-dff39f4c16ab"
      },
      "source": [
        "# Get the max bmi\n",
        "print(df['age'].max()) "
      ],
      "execution_count": 19,
      "outputs": [
        {
          "output_type": "stream",
          "name": "stdout",
          "text": [
            "64\n"
          ]
        }
      ]
    },
    {
      "cell_type": "code",
      "metadata": {
        "id": "t8qNjKqI3hXm"
      },
      "source": [
        "# Group the tenure in bins of 12 months\n",
        "labels = [\"{0} - {1}\".format(i, i + 11) for i in range(1, 60, 12)]\n",
        "\n",
        "df['age_group'] = pd.cut(df.age, range(1, 72, 12), right=False, labels=labels)"
      ],
      "execution_count": 20,
      "outputs": []
    },
    {
      "cell_type": "code",
      "metadata": {
        "colab": {
          "base_uri": "https://localhost:8080/"
        },
        "id": "7LtImZ8y3smN",
        "outputId": "6a059207-f62c-4e4a-d5c1-5f07f99701e4"
      },
      "source": [
        "df['age_group'].value_counts()"
      ],
      "execution_count": 21,
      "outputs": [
        {
          "output_type": "execute_result",
          "data": {
            "text/plain": [
              "37 - 48    326\n",
              "49 - 60    322\n",
              "25 - 36    321\n",
              "13 - 24    278\n",
              "1 - 12       0\n",
              "Name: age_group, dtype: int64"
            ]
          },
          "metadata": {},
          "execution_count": 21
        }
      ]
    },
    {
      "cell_type": "code",
      "metadata": {
        "id": "uCxd0Ob36Tai"
      },
      "source": [
        "# Group the tenure in bins of 12 months\n",
        "labels = [\"{0} - {1}\".format(i, i + 14999) for i in range(1, 72000, 15000)]\n",
        "\n",
        "df['charges_group'] = pd.cut(df.charges, range(1, 80000, 15000), right=False, labels=labels)"
      ],
      "execution_count": 22,
      "outputs": []
    },
    {
      "cell_type": "code",
      "metadata": {
        "colab": {
          "base_uri": "https://localhost:8080/"
        },
        "id": "vHRK8lsW7C-Y",
        "outputId": "62bdc01a-76b0-40af-d840-b935ab7f0655"
      },
      "source": [
        "df['charges_group'].value_counts()"
      ],
      "execution_count": 23,
      "outputs": [
        {
          "output_type": "execute_result",
          "data": {
            "text/plain": [
              "1 - 15000        980\n",
              "15001 - 30000    196\n",
              "30001 - 45000    124\n",
              "45001 - 60000     35\n",
              "60001 - 75000      3\n",
              "Name: charges_group, dtype: int64"
            ]
          },
          "metadata": {},
          "execution_count": 23
        }
      ]
    },
    {
      "cell_type": "markdown",
      "metadata": {
        "id": "Tt8n4K6Es7ZK"
      },
      "source": [
        "## Univariate Analysis"
      ]
    },
    {
      "cell_type": "code",
      "metadata": {
        "colab": {
          "base_uri": "https://localhost:8080/",
          "height": 0
        },
        "id": "W63b49AGyF2l",
        "outputId": "90613aa2-9de0-4e6d-e734-69389037c877"
      },
      "source": [
        "for i, predictor in enumerate(df.drop(columns=['region','charges','age','bmi'])):\n",
        "    plt.figure()\n",
        "    sns.countplot(data=df, x=predictor, hue='sex')\n",
        "\n",
        "    #enumerate - dealing with iterators, we also get a need to keep a count of iterations."
      ],
      "execution_count": 24,
      "outputs": [
        {
          "output_type": "display_data",
          "data": {
            "image/png": "[encoded data removed]",
            "text/plain": [
              "<Figure size 432x288 with 1 Axes>"
            ]
          },
          "metadata": {
            "needs_background": "light"
          }
        },
        {
          "output_type": "display_data",
          "data": {
            "image/png": "[encoded data removed]",
            "text/plain": [
              "<Figure size 432x288 with 1 Axes>"
            ]
          },
          "metadata": {
            "needs_background": "light"
          }
        },
        {
          "output_type": "display_data",
          "data": {
            "image/png": "[encoded data removed]",
            "text/plain": [
              "<Figure size 432x288 with 1 Axes>"
            ]
          },
          "metadata": {
            "needs_background": "light"
          }
        },
        {
          "output_type": "display_data",
          "data": {
            "image/png": "[encoded data removed]",
            "text/plain": [
              "<Figure size 432x288 with 1 Axes>"
            ]
          },
          "metadata": {
            "needs_background": "light"
          }
        },
        {
          "output_type": "display_data",
          "data": {
            "image/png": "[encoded data removed]",
            "text/plain": [
              "<Figure size 432x288 with 1 Axes>"
            ]
          },
          "metadata": {
            "needs_background": "light"
          }
        },
        {
          "output_type": "display_data",
          "data": {
            "image/png": "[encoded data removed]",
            "text/plain": [
              "<Figure size 432x288 with 1 Axes>"
            ]
          },
          "metadata": {
            "needs_background": "light"
          }
        }
      ]
    },
    {
      "cell_type": "markdown",
      "metadata": {
        "id": "YMnHcbJlbQA4"
      },
      "source": [
        "From that we can say that,\n",
        "\n",
        "\n",
        "1.   those have no children this male and female are more.\n",
        "2.   in this data there are less smokers than no- smokers.\n",
        "3. those peoples have BMI in between 25-36 this peoples are more.\n",
        "4.  more peoples in between 25-60 age of group.\n",
        "5.  more charges by female in between 1200-150000 \n",
        "\n"
      ]
    },
    {
      "cell_type": "code",
      "metadata": {
        "id": "s52liudSuVXK"
      },
      "source": [
        "#df['smoker'] = np.where(df.smoker == 'yes',1,0)"
      ],
      "execution_count": 25,
      "outputs": []
    },
    {
      "cell_type": "markdown",
      "metadata": {
        "id": "jCGn60Z0tCCb"
      },
      "source": [
        "## Bivariate Analysis"
      ]
    },
    {
      "cell_type": "code",
      "metadata": {
        "id": "ZYkDzPsWziwj"
      },
      "source": [
        "new_df1_target0=df.loc[df[\"smoker\"]=='no']\n",
        "new_df1_target1=df.loc[df[\"smoker\"]=='yes']"
      ],
      "execution_count": 26,
      "outputs": []
    },
    {
      "cell_type": "code",
      "metadata": {
        "id": "daNrCt_Z8rep"
      },
      "source": [
        "def uniplot(df,col,title,hue =None):\n",
        "    \n",
        "    sns.set_style('whitegrid')\n",
        "    sns.set_context('talk')\n",
        " \n",
        "    \n",
        "    \n",
        "    #temp = pd.Series(data = hue)\n",
        "    fig, ax = plt.subplots()\n",
        "    #width = len(df[col].unique())\n",
        "    fig.set_size_inches(8 , 8)\n",
        "   # plt.xticks(rotation=45)\n",
        "    plt.yscale('log')\n",
        "    plt.title(title)\n",
        "    ax = sns.countplot(data = df, x= col,hue = hue,palette='bright') \n",
        "        # order=df[col].value_counts().index -- use for ascending order\n",
        "    plt.show()"
      ],
      "execution_count": 27,
      "outputs": []
    },
    {
      "cell_type": "code",
      "metadata": {
        "colab": {
          "base_uri": "https://localhost:8080/",
          "height": 0
        },
        "id": "_5aT43248ymJ",
        "outputId": "7183bfa4-af91-443b-ea16-0d262c86b849"
      },
      "source": [
        "uniplot(new_df1_target1,col='bmi_group',title='Distribution of smokers for BMI',hue='smoker')"
      ],
      "execution_count": 28,
      "outputs": [
        {
          "output_type": "display_data",
          "data": {
            "image/png": "[encoded data removed]",
            "text/plain": [
              "<Figure size 576x576 with 1 Axes>"
            ]
          },
          "metadata": {}
        }
      ]
    },
    {
      "cell_type": "code",
      "metadata": {
        "colab": {
          "base_uri": "https://localhost:8080/",
          "height": 0
        },
        "id": "njSsorkN-Dp6",
        "outputId": "d4640aeb-99f6-47f8-fe07-f74c6f508c0b"
      },
      "source": [
        "uniplot(new_df1_target0,col='bmi_group',title='Distribution of non-smokers for BMI',hue='smoker')"
      ],
      "execution_count": 29,
      "outputs": [
        {
          "output_type": "display_data",
          "data": {
            "image/png": "[encoded data removed]",
            "text/plain": [
              "<Figure size 576x576 with 1 Axes>"
            ]
          },
          "metadata": {}
        }
      ]
    },
    {
      "cell_type": "code",
      "metadata": {
        "colab": {
          "base_uri": "https://localhost:8080/",
          "height": 0
        },
        "id": "LIH4bg-w8_yQ",
        "outputId": "0f9e8e92-003f-4078-8a85-d4ae0ebb9555"
      },
      "source": [
        "uniplot(new_df1_target1,col='charges_group',title='Distribution of smokers for Charges',hue='smoker')"
      ],
      "execution_count": 30,
      "outputs": [
        {
          "output_type": "display_data",
          "data": {
            "image/png": "[encoded data removed]",
            "text/plain": [
              "<Figure size 576x576 with 1 Axes>"
            ]
          },
          "metadata": {}
        }
      ]
    },
    {
      "cell_type": "code",
      "metadata": {
        "colab": {
          "base_uri": "https://localhost:8080/",
          "height": 0
        },
        "id": "BSFs2lHA9tYV",
        "outputId": "1c031d0e-b11b-43c0-b2cd-718a011659aa"
      },
      "source": [
        "uniplot(new_df1_target0,col='charges_group',title='Distribution of no-smoker for charges',hue='smoker')"
      ],
      "execution_count": 31,
      "outputs": [
        {
          "output_type": "display_data",
          "data": {
            "image/png": "[encoded data removed]",
            "text/plain": [
              "<Figure size 576x576 with 1 Axes>"
            ]
          },
          "metadata": {}
        }
      ]
    },
    {
      "cell_type": "code",
      "metadata": {
        "colab": {
          "base_uri": "https://localhost:8080/",
          "height": 0
        },
        "id": "6MzBOFuKq9TJ",
        "outputId": "6934c949-eb5c-4dfa-b39a-cafcca9a1e54"
      },
      "source": [
        "uniplot(new_df1_target1,col='age_group',title='Distribution of smokers for age-wise',hue='smoker')"
      ],
      "execution_count": 32,
      "outputs": [
        {
          "output_type": "display_data",
          "data": {
            "image/png": "[encoded data removed]",
            "text/plain": [
              "<Figure size 576x576 with 1 Axes>"
            ]
          },
          "metadata": {}
        }
      ]
    },
    {
      "cell_type": "code",
      "metadata": {
        "colab": {
          "base_uri": "https://localhost:8080/",
          "height": 0
        },
        "id": "tq_3JKH3zPuN",
        "outputId": "6899fd19-e3b3-4276-de27-2a2f1d275224"
      },
      "source": [
        "uniplot(new_df1_target1,col='bmi_group',title='Distribution of smokers for BMI',hue='charges_group')"
      ],
      "execution_count": 33,
      "outputs": [
        {
          "output_type": "display_data",
          "data": {
            "image/png": "[encoded data removed]",
            "text/plain": [
              "<Figure size 576x576 with 1 Axes>"
            ]
          },
          "metadata": {}
        }
      ]
    },
    {
      "cell_type": "code",
      "metadata": {
        "colab": {
          "base_uri": "https://localhost:8080/",
          "height": 0
        },
        "id": "6KfSse7J9-Qg",
        "outputId": "10b74fda-b16a-42af-c96f-3c4412fd922a"
      },
      "source": [
        "uniplot(new_df1_target1,col='charges_group',title='Distribution of Gender for Churned Customers',hue='children')"
      ],
      "execution_count": 34,
      "outputs": [
        {
          "output_type": "display_data",
          "data": {
            "image/png": "[encoded data removed]",
            "text/plain": [
              "<Figure size 576x576 with 1 Axes>"
            ]
          },
          "metadata": {}
        }
      ]
    },
    {
      "cell_type": "markdown",
      "metadata": {
        "id": "ybqUols-10wP"
      },
      "source": [
        "From above we can conclude that,\n",
        "\n",
        "1. those are smokers and non- smokers there have approximetly BMI values.\n",
        "2. those people are smokers they paying more charges than non-smokers.\n",
        "3. age between 37-48 this peoples are more smokers.\n",
        "4. Higher BMI persons has to pay more than lower ones.\n",
        "5. Having high number of childern means can only spend less  on insurance. "
      ]
    },
    {
      "cell_type": "markdown",
      "metadata": {
        "id": "oS8he5Cg3QhR"
      },
      "source": [
        "**PLot the boxplot**"
      ]
    },
    {
      "cell_type": "code",
      "metadata": {
        "id": "X0EB16G1-nPF",
        "colab": {
          "base_uri": "https://localhost:8080/",
          "height": 0
        },
        "outputId": "e36bd3c2-737a-4672-93c1-7cdf04282073"
      },
      "source": [
        " plt.subplot(1, 2, 2)\n",
        "sns.boxplot(y=df['charges'])\n",
        "plt.title('Boxplot')\n",
        " plt.show()"
      ],
      "execution_count": 35,
      "outputs": [
        {
          "output_type": "display_data",
          "data": {
            "image/png": "[encoded data removed]",
            "text/plain": [
              "<Figure size 432x288 with 1 Axes>"
            ]
          },
          "metadata": {}
        }
      ]
    },
    {
      "cell_type": "markdown",
      "metadata": {
        "id": "EcD1J88rLj3L"
      },
      "source": [
        "**PLot the histogram**"
      ]
    },
    {
      "cell_type": "code",
      "metadata": {
        "colab": {
          "base_uri": "https://localhost:8080/",
          "height": 0
        },
        "id": "nKEiAX4851Xd",
        "outputId": "c5af1bc6-2597-4f17-8f2b-29ec0f6f080e"
      },
      "source": [
        "  # histogram\n",
        "plt.subplot(1, 2, 2)\n",
        "sns.distplot(df['charges'], bins=30)\n",
        "plt.title('Histogram')"
      ],
      "execution_count": 36,
      "outputs": [
        {
          "output_type": "stream",
          "name": "stderr",
          "text": [
            "/usr/local/lib/python3.7/dist-packages/seaborn/distributions.py:2619: FutureWarning: `distplot` is a deprecated function and will be removed in a future version. Please adapt your code to use either `displot` (a figure-level function with similar flexibility) or `histplot` (an axes-level function for histograms).\n",
            "  warnings.warn(msg, FutureWarning)\n"
          ]
        },
        {
          "output_type": "execute_result",
          "data": {
            "text/plain": [
              "Text(0.5, 1.0, 'Histogram')"
            ]
          },
          "metadata": {},
          "execution_count": 36
        },
        {
          "output_type": "display_data",
          "data": {
            "image/png": "[encoded data removed]",
            "text/plain": [
              "<Figure size 432x288 with 1 Axes>"
            ]
          },
          "metadata": {}
        }
      ]
    },
    {
      "cell_type": "markdown",
      "metadata": {
        "id": "QgwGz8pWDTfW"
      },
      "source": [
        "## Remove_outliers"
      ]
    },
    {
      "cell_type": "code",
      "metadata": {
        "colab": {
          "base_uri": "https://localhost:8080/"
        },
        "id": "sfrPXajE9ojH",
        "outputId": "210d1244-e05a-4429-bcdf-ab3ccfb1effa"
      },
      "source": [
        " '''df_out = pd.DataFrame()\n",
        " m = np.mean(df.charges)\n",
        "std = np.std(df.charges)\n",
        " reduced_df = df[(df.charges>(m-st)) & (df.charges<=(m+st))] #lower limit & upper limit\n",
        "df_out = pd.concat([df_out,reduced_df],ignore_index=True)\n",
        " print(m)\n",
        " print(std)'''"
      ],
      "execution_count": null,
      "outputs": [
        {
          "output_type": "execute_result",
          "data": {
            "application/vnd.google.colaboratory.intrinsic+json": {
              "type": "string"
            },
            "text/plain": [
              "'df_out = pd.DataFrame()\\nm = np.mean(df.charges)\\nstd = np.std(df.charges)\\nreduced_df = df[(df.charges>(m-st)) & (df.charges<=(m+st))] #lower limit & upper limit\\ndf_out = pd.concat([df_out,reduced_df],ignore_index=True)\\nprint(m)\\nprint(std)'"
            ]
          },
          "metadata": {},
          "execution_count": 35
        }
      ]
    },
    {
      "cell_type": "code",
      "metadata": {
        "colab": {
          "base_uri": "https://localhost:8080/"
        },
        "id": "tLbpYE1I_wqK",
        "outputId": "2fda0a00-3886-49a0-f47c-8ac0092ac155"
      },
      "source": [
        "plt.subplot(1, 2, 2)\n",
        "sns.boxplot(y=df_out['charges'])\n",
        "plt.title('Boxplot')\n",
        "plt.show()"
      ],
      "execution_count": null,
      "outputs": [
        {
          "output_type": "error",
          "ename": "NameError",
          "evalue": "ignored",
          "traceback": [
            "\u001b[0;31m---------------------------------------------------------------------------\u001b[0m",
            "\u001b[0;31mNameError\u001b[0m                                 Traceback (most recent call last)",
            "\u001b[0;32m<ipython-input-36-bdb09da1c0e1>\u001b[0m in \u001b[0;36m<module>\u001b[0;34m()\u001b[0m\n\u001b[1;32m      1\u001b[0m \u001b[0mplt\u001b[0m\u001b[0;34m.\u001b[0m\u001b[0msubplot\u001b[0m\u001b[0;34m(\u001b[0m\u001b[0;36m1\u001b[0m\u001b[0;34m,\u001b[0m \u001b[0;36m2\u001b[0m\u001b[0;34m,\u001b[0m \u001b[0;36m2\u001b[0m\u001b[0;34m)\u001b[0m\u001b[0;34m\u001b[0m\u001b[0;34m\u001b[0m\u001b[0m\n\u001b[0;32m----> 2\u001b[0;31m \u001b[0msns\u001b[0m\u001b[0;34m.\u001b[0m\u001b[0mboxplot\u001b[0m\u001b[0;34m(\u001b[0m\u001b[0my\u001b[0m\u001b[0;34m=\u001b[0m\u001b[0mdf_out\u001b[0m\u001b[0;34m[\u001b[0m\u001b[0;34m'charges'\u001b[0m\u001b[0;34m]\u001b[0m\u001b[0;34m)\u001b[0m\u001b[0;34m\u001b[0m\u001b[0;34m\u001b[0m\u001b[0m\n\u001b[0m\u001b[1;32m      3\u001b[0m \u001b[0mplt\u001b[0m\u001b[0;34m.\u001b[0m\u001b[0mtitle\u001b[0m\u001b[0;34m(\u001b[0m\u001b[0;34m'Boxplot'\u001b[0m\u001b[0;34m)\u001b[0m\u001b[0;34m\u001b[0m\u001b[0;34m\u001b[0m\u001b[0m\n\u001b[1;32m      4\u001b[0m \u001b[0mplt\u001b[0m\u001b[0;34m.\u001b[0m\u001b[0mshow\u001b[0m\u001b[0;34m(\u001b[0m\u001b[0;34m)\u001b[0m\u001b[0;34m\u001b[0m\u001b[0;34m\u001b[0m\u001b[0m\n",
            "\u001b[0;31mNameError\u001b[0m: name 'df_out' is not defined"
          ]
        },
        {
          "output_type": "display_data",
          "data": {
            "image/png": "[encoded data removed]",
            "text/plain": [
              "<Figure size 432x288 with 1 Axes>"
            ]
          },
          "metadata": {}
        }
      ]
    },
    {
      "cell_type": "code",
      "metadata": {
        "id": "-8HXfxrnAcA6"
      },
      "source": [
        "  # histogram\n",
        "plt.subplot(1, 2, 2)\n",
        "sns.distplot(df_out['charges'], bins=30)\n",
        "plt.title('Histogram')"
      ],
      "execution_count": null,
      "outputs": []
    },
    {
      "cell_type": "code",
      "metadata": {
        "id": "8XZZNCBFAQeB"
      },
      "source": [
        "df_out.shape"
      ],
      "execution_count": null,
      "outputs": []
    },
    {
      "cell_type": "code",
      "metadata": {
        "id": "YJq2FWxG6t-c"
      },
      "source": [
        "df_out.head()"
      ],
      "execution_count": null,
      "outputs": []
    },
    {
      "cell_type": "markdown",
      "metadata": {
        "id": "yOEsU5rUDfEa"
      },
      "source": [
        "## Drop columns"
      ]
    },
    {
      "cell_type": "code",
      "metadata": {
        "id": "ei8dQB2s7td5",
        "colab": {
          "base_uri": "https://localhost:8080/",
          "height": 0
        },
        "outputId": "003d2ad2-efd2-4fa2-c271-e38d2fd27ddf"
      },
      "source": [
        "df_drop = df.drop(['bmi_group','age_group', 'charges_group','region'],axis='columns')\n",
        "df_drop.head()"
      ],
      "execution_count": 37,
      "outputs": [
        {
          "output_type": "execute_result",
          "data": {
            "text/html": [
              "<div>\n",
              "<style scoped>\n",
              "    .dataframe tbody tr th:only-of-type {\n",
              "        vertical-align: middle;\n",
              "    }\n",
              "\n",
              "    .dataframe tbody tr th {\n",
              "        vertical-align: top;\n",
              "    }\n",
              "\n",
              "    .dataframe thead th {\n",
              "        text-align: right;\n",
              "    }\n",
              "</style>\n",
              "<table border=\"1\" class=\"dataframe\">\n",
              "  <thead>\n",
              "    <tr style=\"text-align: right;\">\n",
              "      <th></th>\n",
              "      <th>age</th>\n",
              "      <th>sex</th>\n",
              "      <th>bmi</th>\n",
              "      <th>children</th>\n",
              "      <th>smoker</th>\n",
              "      <th>charges</th>\n",
              "    </tr>\n",
              "  </thead>\n",
              "  <tbody>\n",
              "    <tr>\n",
              "      <th>0</th>\n",
              "      <td>19</td>\n",
              "      <td>female</td>\n",
              "      <td>27.900</td>\n",
              "      <td>0</td>\n",
              "      <td>yes</td>\n",
              "      <td>16884.92400</td>\n",
              "    </tr>\n",
              "    <tr>\n",
              "      <th>1</th>\n",
              "      <td>18</td>\n",
              "      <td>male</td>\n",
              "      <td>33.770</td>\n",
              "      <td>1</td>\n",
              "      <td>no</td>\n",
              "      <td>1725.55230</td>\n",
              "    </tr>\n",
              "    <tr>\n",
              "      <th>2</th>\n",
              "      <td>28</td>\n",
              "      <td>male</td>\n",
              "      <td>33.000</td>\n",
              "      <td>3</td>\n",
              "      <td>no</td>\n",
              "      <td>4449.46200</td>\n",
              "    </tr>\n",
              "    <tr>\n",
              "      <th>3</th>\n",
              "      <td>33</td>\n",
              "      <td>male</td>\n",
              "      <td>22.705</td>\n",
              "      <td>0</td>\n",
              "      <td>no</td>\n",
              "      <td>21984.47061</td>\n",
              "    </tr>\n",
              "    <tr>\n",
              "      <th>4</th>\n",
              "      <td>32</td>\n",
              "      <td>male</td>\n",
              "      <td>28.880</td>\n",
              "      <td>0</td>\n",
              "      <td>no</td>\n",
              "      <td>3866.85520</td>\n",
              "    </tr>\n",
              "  </tbody>\n",
              "</table>\n",
              "</div>"
            ],
            "text/plain": [
              "   age     sex     bmi  children smoker      charges\n",
              "0   19  female  27.900         0    yes  16884.92400\n",
              "1   18    male  33.770         1     no   1725.55230\n",
              "2   28    male  33.000         3     no   4449.46200\n",
              "3   33    male  22.705         0     no  21984.47061\n",
              "4   32    male  28.880         0     no   3866.85520"
            ]
          },
          "metadata": {},
          "execution_count": 37
        }
      ]
    },
    {
      "cell_type": "markdown",
      "metadata": {
        "id": "hVXGFaTUCDdP"
      },
      "source": [
        "Convert string to numeric values"
      ]
    },
    {
      "cell_type": "code",
      "metadata": {
        "id": "d84A0Vja9CZd",
        "colab": {
          "base_uri": "https://localhost:8080/",
          "height": 0
        },
        "outputId": "ada2c8d6-b15b-4603-80df-cb43a2364da4"
      },
      "source": [
        "df_dummies = pd.get_dummies(df_drop)\n",
        "df_dummies.head(3)"
      ],
      "execution_count": 38,
      "outputs": [
        {
          "output_type": "execute_result",
          "data": {
            "text/html": [
              "<div>\n",
              "<style scoped>\n",
              "    .dataframe tbody tr th:only-of-type {\n",
              "        vertical-align: middle;\n",
              "    }\n",
              "\n",
              "    .dataframe tbody tr th {\n",
              "        vertical-align: top;\n",
              "    }\n",
              "\n",
              "    .dataframe thead th {\n",
              "        text-align: right;\n",
              "    }\n",
              "</style>\n",
              "<table border=\"1\" class=\"dataframe\">\n",
              "  <thead>\n",
              "    <tr style=\"text-align: right;\">\n",
              "      <th></th>\n",
              "      <th>age</th>\n",
              "      <th>bmi</th>\n",
              "      <th>children</th>\n",
              "      <th>charges</th>\n",
              "      <th>sex_female</th>\n",
              "      <th>sex_male</th>\n",
              "      <th>smoker_no</th>\n",
              "      <th>smoker_yes</th>\n",
              "    </tr>\n",
              "  </thead>\n",
              "  <tbody>\n",
              "    <tr>\n",
              "      <th>0</th>\n",
              "      <td>19</td>\n",
              "      <td>27.90</td>\n",
              "      <td>0</td>\n",
              "      <td>16884.9240</td>\n",
              "      <td>1</td>\n",
              "      <td>0</td>\n",
              "      <td>0</td>\n",
              "      <td>1</td>\n",
              "    </tr>\n",
              "    <tr>\n",
              "      <th>1</th>\n",
              "      <td>18</td>\n",
              "      <td>33.77</td>\n",
              "      <td>1</td>\n",
              "      <td>1725.5523</td>\n",
              "      <td>0</td>\n",
              "      <td>1</td>\n",
              "      <td>1</td>\n",
              "      <td>0</td>\n",
              "    </tr>\n",
              "    <tr>\n",
              "      <th>2</th>\n",
              "      <td>28</td>\n",
              "      <td>33.00</td>\n",
              "      <td>3</td>\n",
              "      <td>4449.4620</td>\n",
              "      <td>0</td>\n",
              "      <td>1</td>\n",
              "      <td>1</td>\n",
              "      <td>0</td>\n",
              "    </tr>\n",
              "  </tbody>\n",
              "</table>\n",
              "</div>"
            ],
            "text/plain": [
              "   age    bmi  children  ...  sex_male  smoker_no  smoker_yes\n",
              "0   19  27.90         0  ...         0          0           1\n",
              "1   18  33.77         1  ...         1          1           0\n",
              "2   28  33.00         3  ...         1          1           0\n",
              "\n",
              "[3 rows x 8 columns]"
            ]
          },
          "metadata": {},
          "execution_count": 38
        }
      ]
    },
    {
      "cell_type": "markdown",
      "metadata": {
        "id": "Cg4NKz_vCs1T"
      },
      "source": [
        "\n",
        "## Model Building"
      ]
    },
    {
      "cell_type": "code",
      "metadata": {
        "id": "qZxnOWerA_GX"
      },
      "source": [
        "from sklearn import metrics\n",
        "from sklearn.model_selection import train_test_split\n",
        "from sklearn.metrics import r2_score \n",
        "import sklearn.metrics as metrics \n",
        "from sklearn.linear_model import LinearRegression\n",
        "from sklearn.ensemble import RandomForestRegressor\n",
        "from sklearn.tree import DecisionTreeRegressor\n"
      ],
      "execution_count": 66,
      "outputs": []
    },
    {
      "cell_type": "code",
      "metadata": {
        "id": "Spjt84LFB6vI"
      },
      "source": [
        "X = df_dummies.drop(['charges'],axis='columns')\n",
        "y = df_dummies.charges"
      ],
      "execution_count": 40,
      "outputs": []
    },
    {
      "cell_type": "code",
      "metadata": {
        "colab": {
          "base_uri": "https://localhost:8080/",
          "height": 203
        },
        "id": "6aMhW3_qB6yO",
        "outputId": "b90842ca-ce43-4d69-cd50-1d4bf5193104"
      },
      "source": [
        "X.head()"
      ],
      "execution_count": 41,
      "outputs": [
        {
          "output_type": "execute_result",
          "data": {
            "text/html": [
              "<div>\n",
              "<style scoped>\n",
              "    .dataframe tbody tr th:only-of-type {\n",
              "        vertical-align: middle;\n",
              "    }\n",
              "\n",
              "    .dataframe tbody tr th {\n",
              "        vertical-align: top;\n",
              "    }\n",
              "\n",
              "    .dataframe thead th {\n",
              "        text-align: right;\n",
              "    }\n",
              "</style>\n",
              "<table border=\"1\" class=\"dataframe\">\n",
              "  <thead>\n",
              "    <tr style=\"text-align: right;\">\n",
              "      <th></th>\n",
              "      <th>age</th>\n",
              "      <th>bmi</th>\n",
              "      <th>children</th>\n",
              "      <th>sex_female</th>\n",
              "      <th>sex_male</th>\n",
              "      <th>smoker_no</th>\n",
              "      <th>smoker_yes</th>\n",
              "    </tr>\n",
              "  </thead>\n",
              "  <tbody>\n",
              "    <tr>\n",
              "      <th>0</th>\n",
              "      <td>19</td>\n",
              "      <td>27.900</td>\n",
              "      <td>0</td>\n",
              "      <td>1</td>\n",
              "      <td>0</td>\n",
              "      <td>0</td>\n",
              "      <td>1</td>\n",
              "    </tr>\n",
              "    <tr>\n",
              "      <th>1</th>\n",
              "      <td>18</td>\n",
              "      <td>33.770</td>\n",
              "      <td>1</td>\n",
              "      <td>0</td>\n",
              "      <td>1</td>\n",
              "      <td>1</td>\n",
              "      <td>0</td>\n",
              "    </tr>\n",
              "    <tr>\n",
              "      <th>2</th>\n",
              "      <td>28</td>\n",
              "      <td>33.000</td>\n",
              "      <td>3</td>\n",
              "      <td>0</td>\n",
              "      <td>1</td>\n",
              "      <td>1</td>\n",
              "      <td>0</td>\n",
              "    </tr>\n",
              "    <tr>\n",
              "      <th>3</th>\n",
              "      <td>33</td>\n",
              "      <td>22.705</td>\n",
              "      <td>0</td>\n",
              "      <td>0</td>\n",
              "      <td>1</td>\n",
              "      <td>1</td>\n",
              "      <td>0</td>\n",
              "    </tr>\n",
              "    <tr>\n",
              "      <th>4</th>\n",
              "      <td>32</td>\n",
              "      <td>28.880</td>\n",
              "      <td>0</td>\n",
              "      <td>0</td>\n",
              "      <td>1</td>\n",
              "      <td>1</td>\n",
              "      <td>0</td>\n",
              "    </tr>\n",
              "  </tbody>\n",
              "</table>\n",
              "</div>"
            ],
            "text/plain": [
              "   age     bmi  children  sex_female  sex_male  smoker_no  smoker_yes\n",
              "0   19  27.900         0           1         0          0           1\n",
              "1   18  33.770         1           0         1          1           0\n",
              "2   28  33.000         3           0         1          1           0\n",
              "3   33  22.705         0           0         1          1           0\n",
              "4   32  28.880         0           0         1          1           0"
            ]
          },
          "metadata": {},
          "execution_count": 41
        }
      ]
    },
    {
      "cell_type": "code",
      "metadata": {
        "colab": {
          "base_uri": "https://localhost:8080/"
        },
        "id": "9amACzUxB60n",
        "outputId": "9b9167e0-e666-4d07-fe97-92dd22e15802"
      },
      "source": [
        "y.head()"
      ],
      "execution_count": 42,
      "outputs": [
        {
          "output_type": "execute_result",
          "data": {
            "text/plain": [
              "0    16884.92400\n",
              "1     1725.55230\n",
              "2     4449.46200\n",
              "3    21984.47061\n",
              "4     3866.85520\n",
              "Name: charges, dtype: float64"
            ]
          },
          "metadata": {},
          "execution_count": 42
        }
      ]
    },
    {
      "cell_type": "code",
      "metadata": {
        "colab": {
          "base_uri": "https://localhost:8080/"
        },
        "id": "bmi176aKES_X",
        "outputId": "12b10e9b-de62-4829-ebfe-53b58d21a9f2"
      },
      "source": [
        "print(X.shape)\n",
        "print(y.shape)"
      ],
      "execution_count": 43,
      "outputs": [
        {
          "output_type": "stream",
          "name": "stdout",
          "text": [
            "(1338, 7)\n",
            "(1338,)\n"
          ]
        }
      ]
    },
    {
      "cell_type": "markdown",
      "metadata": {
        "id": "iOyoiFt_D4_g"
      },
      "source": [
        "\n",
        "## Train Test Split"
      ]
    },
    {
      "cell_type": "code",
      "metadata": {
        "id": "Jvz5Yo0jD8g9"
      },
      "source": [
        "X_train,X_test,y_train,y_test=train_test_split(X,y,test_size=0.30,random_state = 0)"
      ],
      "execution_count": 44,
      "outputs": []
    },
    {
      "cell_type": "code",
      "metadata": {
        "colab": {
          "base_uri": "https://localhost:8080/"
        },
        "id": "pA-6gjDREiXR",
        "outputId": "7a352570-8817-4d78-80c6-4fccf1dc6b3e"
      },
      "source": [
        "print(X_train.shape)\n",
        "print(y_train.shape)"
      ],
      "execution_count": 45,
      "outputs": [
        {
          "output_type": "stream",
          "name": "stdout",
          "text": [
            "(936, 7)\n",
            "(936,)\n"
          ]
        }
      ]
    },
    {
      "cell_type": "code",
      "metadata": {
        "colab": {
          "base_uri": "https://localhost:8080/"
        },
        "id": "6XgNfo8SEjoA",
        "outputId": "066b91a9-4c30-4578-8b01-d75e36860208"
      },
      "source": [
        "print(X_test.shape)\n",
        "print(y_test.shape)"
      ],
      "execution_count": 46,
      "outputs": [
        {
          "output_type": "stream",
          "name": "stdout",
          "text": [
            "(402, 7)\n",
            "(402,)\n"
          ]
        }
      ]
    },
    {
      "cell_type": "markdown",
      "metadata": {
        "id": "_rw_jRTNGLZ_"
      },
      "source": [
        "\n",
        "## Feature Scalling"
      ]
    },
    {
      "cell_type": "code",
      "metadata": {
        "id": "V9rKo28nEqUy"
      },
      "source": [
        "from sklearn.preprocessing import StandardScaler\n",
        "sc = StandardScaler()\n",
        "sc.fit(X_train)\n",
        "X_train= sc.transform(X_train)\n",
        "X_test = sc.transform(X_test)"
      ],
      "execution_count": 47,
      "outputs": []
    },
    {
      "cell_type": "markdown",
      "metadata": {
        "id": "_qNIO3idGpmB"
      },
      "source": [
        "\n",
        "## Linear Regression"
      ]
    },
    {
      "cell_type": "code",
      "metadata": {
        "colab": {
          "base_uri": "https://localhost:8080/"
        },
        "id": "DXZL65MiGTIr",
        "outputId": "90c56cb9-95fd-4e92-be9b-846cceecb48e"
      },
      "source": [
        "Regressor = LinearRegression()\n",
        "# Train the model using the training sets\n",
        "Regressor.fit(X_train, y_train)"
      ],
      "execution_count": 48,
      "outputs": [
        {
          "output_type": "execute_result",
          "data": {
            "text/plain": [
              "LinearRegression(copy_X=True, fit_intercept=True, n_jobs=None, normalize=False)"
            ]
          },
          "metadata": {},
          "execution_count": 48
        }
      ]
    },
    {
      "cell_type": "code",
      "metadata": {
        "id": "Xu7LWgRPG0Z6"
      },
      "source": [
        "# predictin on the test set\n",
        "y_pred = Regressor.predict(X_test)"
      ],
      "execution_count": 49,
      "outputs": []
    },
    {
      "cell_type": "code",
      "metadata": {
        "colab": {
          "base_uri": "https://localhost:8080/"
        },
        "id": "ohHFGRwiG4lL",
        "outputId": "f117763d-6726-4035-a82c-20b6283d3848"
      },
      "source": [
        "# Calculate Model \n",
        "print(\"r2_score:\", r2_score(y_test, y_pred))"
      ],
      "execution_count": 50,
      "outputs": [
        {
          "output_type": "stream",
          "name": "stdout",
          "text": [
            "r2_score: 0.7894790349867009\n"
          ]
        }
      ]
    },
    {
      "cell_type": "code",
      "metadata": {
        "colab": {
          "base_uri": "https://localhost:8080/"
        },
        "id": "GzFoprOCG8hk",
        "outputId": "dbf3b545-3741-4a51-bd9d-78bec03e6e23"
      },
      "source": [
        "print('MAE:', metrics.mean_absolute_error(y_test,y_pred))\n",
        "print('MSE:', metrics.mean_squared_error(y_test,y_pred))\n",
        "print('RMSE:', np.sqrt(metrics.mean_squared_error(y_test,y_pred)))"
      ],
      "execution_count": 51,
      "outputs": [
        {
          "output_type": "stream",
          "name": "stdout",
          "text": [
            "MAE: 4008.34938274211\n",
            "MSE: 33571665.685027145\n",
            "RMSE: 5794.106116134493\n"
          ]
        }
      ]
    },
    {
      "cell_type": "markdown",
      "metadata": {
        "id": "lcMeXJASIhU3"
      },
      "source": [
        "## Random Forest Regressor"
      ]
    },
    {
      "cell_type": "code",
      "metadata": {
        "colab": {
          "base_uri": "https://localhost:8080/"
        },
        "id": "jEuciTiPHPNe",
        "outputId": "1225ab3c-10d9-4f08-8bff-595d0fc600d0"
      },
      "source": [
        "Regressor2 = RandomForestRegressor(n_estimators=100)\n",
        "# Train the model using the training sets\n",
        "Regressor2.fit(X_train, y_train)"
      ],
      "execution_count": 54,
      "outputs": [
        {
          "output_type": "execute_result",
          "data": {
            "text/plain": [
              "RandomForestRegressor(bootstrap=True, ccp_alpha=0.0, criterion='mse',\n",
              "                      max_depth=None, max_features='auto', max_leaf_nodes=None,\n",
              "                      max_samples=None, min_impurity_decrease=0.0,\n",
              "                      min_impurity_split=None, min_samples_leaf=1,\n",
              "                      min_samples_split=2, min_weight_fraction_leaf=0.0,\n",
              "                      n_estimators=100, n_jobs=None, oob_score=False,\n",
              "                      random_state=None, verbose=0, warm_start=False)"
            ]
          },
          "metadata": {},
          "execution_count": 54
        }
      ]
    },
    {
      "cell_type": "code",
      "metadata": {
        "id": "fZOscgEfIlwh"
      },
      "source": [
        "# predictin on the test set\n",
        "y_pred2 = Regressor2.predict(X_test)"
      ],
      "execution_count": 55,
      "outputs": []
    },
    {
      "cell_type": "code",
      "metadata": {
        "colab": {
          "base_uri": "https://localhost:8080/"
        },
        "id": "001MvvBLIuIP",
        "outputId": "9713494e-b783-42f7-f425-3e1c37ab102e"
      },
      "source": [
        "# Calculate Model \n",
        "print(\"r2_score:\", r2_score(y_test, y_pred2))"
      ],
      "execution_count": 56,
      "outputs": [
        {
          "output_type": "stream",
          "name": "stdout",
          "text": [
            "r2_score: 0.8571115760951832\n"
          ]
        }
      ]
    },
    {
      "cell_type": "code",
      "metadata": {
        "colab": {
          "base_uri": "https://localhost:8080/",
          "height": 297
        },
        "id": "RODd2t1I655Q",
        "outputId": "14e7685f-d9a0-4ec1-9968-1c4a04a3d797"
      },
      "source": [
        "plt.scatter(y_test,y_pred2)"
      ],
      "execution_count": 57,
      "outputs": [
        {
          "output_type": "execute_result",
          "data": {
            "text/plain": [
              "<matplotlib.collections.PathCollection at 0x7f95fcd09590>"
            ]
          },
          "metadata": {},
          "execution_count": 57
        },
        {
          "output_type": "display_data",
          "data": {
            "image/png": "[encoded data removed]",
            "text/plain": [
              "<Figure size 432x288 with 1 Axes>"
            ]
          },
          "metadata": {}
        }
      ]
    },
    {
      "cell_type": "code",
      "metadata": {
        "id": "UUR89HNhqyeA"
      },
      "source": [
        "predictions=Regressor2.predict(X_test)"
      ],
      "execution_count": 58,
      "outputs": []
    },
    {
      "cell_type": "code",
      "metadata": {
        "colab": {
          "base_uri": "https://localhost:8080/"
        },
        "id": "gYjXtmAYqzd8",
        "outputId": "dcab66f9-e6df-4b3a-df2f-be04aaafb591"
      },
      "source": [
        "predictions"
      ],
      "execution_count": 59,
      "outputs": [
        {
          "output_type": "execute_result",
          "data": {
            "text/plain": [
              "array([10668.4791132 ,  9834.775597  , 44729.9777025 , 13102.6290985 ,\n",
              "        9475.6131906 , 12930.5004967 ,  1780.692067  , 11294.6468367 ,\n",
              "        7303.5177598 ,  5393.9613605 ,  7538.2769889 , 19005.2960254 ,\n",
              "        8727.6359879 ,  7739.982171  , 23791.6923903 , 13786.6015946 ,\n",
              "       13881.7320768 ,  3497.9999805 ,  6458.1492635 , 33855.8542818 ,\n",
              "       23923.915671  , 15659.9026416 , 10342.9738067 , 28204.3703979 ,\n",
              "        3455.8086237 ,  5313.9688934 ,  5029.5387236 ,  8105.9923795 ,\n",
              "        3730.5554775 , 10475.0113454 ,  8140.9364944 , 48362.7797699 ,\n",
              "       14079.1696728 , 13175.3923044 , 16657.849039  ,  3704.3772305 ,\n",
              "        8916.5228393 , 37968.9609766 , 39659.422326  ,  3350.528415  ,\n",
              "       10104.0192963 ,  4356.2269686 , 20974.2234912 , 48062.1668625 ,\n",
              "       37925.1570891 ,  3571.6899407 , 14108.3343077 ,  6655.690357  ,\n",
              "        5172.79908   , 13274.6587246 ,  4130.4375635 ,  4823.6476487 ,\n",
              "       26263.6710312 , 48829.7124013 , 11778.266161  ,  9851.1175876 ,\n",
              "        3794.1541855 , 10496.8555951 ,  9660.0037359 , 17218.7607439 ,\n",
              "        1608.8003165 , 48087.2418135 , 16236.9610288 , 18796.8786729 ,\n",
              "       11982.5739498 ,  9829.3310915 , 33599.1713558 , 41082.8677146 ,\n",
              "        3862.6557761 , 11581.1040441 , 19327.0952569 , 12270.0041711 ,\n",
              "       17316.2106422 , 14227.0981181 , 14158.4074078 , 16844.0776174 ,\n",
              "        8201.52789   , 14723.4834763 , 19723.8111962 , 46450.0816195 ,\n",
              "       11545.657549  , 49483.6000261 ,  3460.8353466 , 11933.0582949 ,\n",
              "       40986.3025711 , 19615.2411957 ,  4935.2162198 ,  3653.5481682 ,\n",
              "       14323.5306413 , 41230.4525367 ,  5579.592851  , 15133.9246179 ,\n",
              "        2909.4767955 , 11143.2446529 ,  9581.0646499 ,  4335.3578819 ,\n",
              "       43109.0872239 , 53645.9959634 ,  5576.8313    , 10955.0428835 ,\n",
              "        3095.6976112 ,  7504.9812761 ,  7620.7652453 , 40362.0680546 ,\n",
              "       27415.7891891 ,  4076.675895  , 11276.4937745 ,  7141.4635661 ,\n",
              "       11508.6696735 , 45016.8608175 , 12064.6659005 ,  5881.5074795 ,\n",
              "       10465.3339081 , 34398.9353272 , 47882.6878244 ,  7112.6152725 ,\n",
              "        2608.481695  , 11461.3430472 , 22687.2609451 ,  9287.5677729 ,\n",
              "       42527.6315882 , 12332.8348952 , 14510.9276435 ,  6850.9752114 ,\n",
              "       11069.4436672 ,  5527.8191398 , 26371.3931372 , 25165.4839263 ,\n",
              "       48089.2269946 ,  1908.674207  , 16482.4372502 ,  3051.0264436 ,\n",
              "        6356.926189  ,  8970.7352465 , 41863.2135556 , 37992.6689912 ,\n",
              "       25130.3605391 , 16701.3676116 , 24431.3234918 ,  6379.7472298 ,\n",
              "        1979.527299  , 12956.1860993 , 10148.1783981 , 11398.8814997 ,\n",
              "        6832.1731581 , 14384.7674467 , 23072.7414132 , 13994.9164621 ,\n",
              "        1582.955552  , 12582.5462244 ,  6063.280965  , 39191.6848949 ,\n",
              "        9849.7604362 ,  9040.5578941 ,  5014.84780765,  8999.882226  ,\n",
              "        3849.3220914 ,  6934.1620395 , 13786.6015946 , 10514.8511739 ,\n",
              "        6352.1369821 , 13346.973066  , 14753.3606313 ,  9224.724529  ,\n",
              "        4699.0493618 ,  8287.3001032 , 17121.7935355 ,  7431.9784565 ,\n",
              "        4500.0354043 ,  2178.375118  ,  6740.3055459 ,  6525.407618  ,\n",
              "       12406.6781655 ,  2351.2782062 , 11188.4859454 ,  8309.8766753 ,\n",
              "        4515.8871095 ,  6607.2201829 , 26751.4626615 ,  1628.1127355 ,\n",
              "       18968.723728  ,  6796.8226685 , 11301.753565  ,  8431.1207092 ,\n",
              "        9236.9381165 , 28119.5248694 ,  3317.7975102 ,  3508.9512675 ,\n",
              "       14336.8702979 , 11408.0326187 , 41559.1958955 ,  6993.4145603 ,\n",
              "        5404.25239   , 25056.9759363 ,  2856.4489363 ,  3055.238253  ,\n",
              "        9355.638961  ,  6618.4795656 ,  9571.8970121 ,  4387.9247905 ,\n",
              "       11708.499163  , 46513.5285174 , 16166.7535668 , 18967.5449155 ,\n",
              "        9911.4493423 , 43730.0098106 ,  4495.7532298 ,  9932.2460923 ,\n",
              "        6649.6578161 ,  1695.1116905 ,  9620.7272197 , 13807.4364858 ,\n",
              "        6128.478771  ,  4445.983076  ,  6539.465097  , 11482.3243012 ,\n",
              "        6888.6805663 ,  6545.6111843 , 14236.4206007 ,  6934.7924743 ,\n",
              "       12461.8514983 ,  8098.7279754 , 12928.5174641 ,  8119.6220742 ,\n",
              "       13763.764028  , 14309.2172925 , 21837.6830898 , 12734.815147  ,\n",
              "        7483.031156  ,  2789.582524  , 10537.3796832 ,  8383.3502519 ,\n",
              "       15109.0175218 ,  4163.1275131 ,  5846.0304803 ,  7194.0154585 ,\n",
              "       14818.5549365 , 34269.282624  ,  5743.200584  , 12837.9164507 ,\n",
              "        5742.365639  , 37098.6657186 ,  8330.7981924 ,  7408.2535878 ,\n",
              "       12508.2025542 , 10417.3380301 ,  3451.7247364 ,  7984.2663583 ,\n",
              "        3067.8523471 ,  6542.9376518 , 19484.8004105 , 46310.399197  ,\n",
              "        5936.1146513 ,  4775.2479819 ,  4198.6888444 ,  1559.071497  ,\n",
              "        8799.13334   ,  3051.41091797,  7078.1113634 , 10882.5985286 ,\n",
              "        8970.7444289 , 24781.2151555 , 45830.568945  , 16542.9952018 ,\n",
              "        6547.3474635 , 11156.8095265 , 46343.1159001 ,  9958.4434729 ,\n",
              "       39651.5820592 ,  1373.670222  , 39254.7731556 ,  5686.5584618 ,\n",
              "       12659.5369035 ,  5643.3719309 , 40174.0975046 ,  6641.8950056 ,\n",
              "        9931.661068  , 10938.7275562 ,  3443.7232089 , 17848.6383779 ,\n",
              "       12305.3981142 , 10223.6975058 , 12736.7016248 , 15018.356895  ,\n",
              "        7990.861583  ,  4666.8188644 , 10553.6179613 , 22611.8829455 ,\n",
              "        5760.2180826 ,  1622.208666  ,  2823.7266844 , 46619.1702115 ,\n",
              "       12394.2320553 ,  4718.0114175 , 15231.6238424 , 12757.9242796 ,\n",
              "       34578.0881048 ,  6782.189556  ,  5592.3162683 ,  9077.8036994 ,\n",
              "        3508.1915435 ,  4139.3151748 , 21200.7371975 , 16741.7069495 ,\n",
              "       13601.0101111 ,  2949.1816712 ,  3151.939763  , 13413.6029395 ,\n",
              "       10110.746861  , 15352.7797197 , 19950.5212885 , 10286.2388781 ,\n",
              "       16807.4823455 ,  2733.5659978 , 12381.2134955 ,  9598.6661558 ,\n",
              "       16160.2022362 ,  2891.5197525 ,  6971.2687518 , 46134.7722456 ,\n",
              "        3669.488289  ,  6160.2560565 ,  1795.284381  , 13921.668269  ,\n",
              "        6896.5851174 , 12009.6321025 , 46581.7876139 , 17795.2048225 ,\n",
              "        9110.062197  , 45268.162301  , 16083.6860183 ,  9875.1306608 ,\n",
              "       11119.7250614 ,  6677.0822221 , 28568.6261105 ,  4991.4190484 ,\n",
              "       14013.1191201 ,  2271.885029  , 16496.22545   ,  3280.5323144 ,\n",
              "       24385.484932  , 13461.0748472 ,  7480.2269153 , 40202.2894182 ,\n",
              "        5866.0178409 ,  5252.729371  , 30858.9148481 ,  3596.771129  ,\n",
              "        9847.9501672 ,  3560.6454148 , 11282.1996482 ,  3941.451402  ,\n",
              "        7586.9205784 ,  5990.6298026 , 44864.0902121 ,  9748.1397868 ,\n",
              "       45744.4296847 , 38880.5054186 ,  5740.8038685 , 11353.9217766 ,\n",
              "        1456.5139945 ,  4565.1218419 ,  3250.4670095 , 11005.659519  ,\n",
              "       44974.8457489 , 11729.6842769 ,  1865.3896475 , 13770.7887181 ,\n",
              "        2157.44260717, 12621.742016  ,  8400.9940716 ,  2210.8325395 ,\n",
              "        3515.5597558 , 36834.848231  ,  7153.6522507 ,  1871.956322  ,\n",
              "       41390.3666005 , 11964.9186629 , 42805.1385446 , 11724.6017595 ,\n",
              "        7288.3856413 ,  3579.7677495 ,  2133.631879  , 17662.5815162 ,\n",
              "        5124.1240017 ,  1901.33531   , 11166.7217112 ,  7208.899437  ,\n",
              "        6127.019626  ,  6503.2265193 ,  7997.2471284 , 44095.0112466 ,\n",
              "        4645.3909182 , 12861.5492702 ,  6968.35741229, 13475.4985342 ,\n",
              "       10946.9227995 ,  6827.1980339 , 17454.2729423 , 13285.730814  ,\n",
              "       19913.7485581 , 19676.2062886 ])"
            ]
          },
          "metadata": {},
          "execution_count": 59
        }
      ]
    },
    {
      "cell_type": "markdown",
      "metadata": {
        "id": "uQ_9dSR3JUyS"
      },
      "source": [
        "## Decision Tree Classifier"
      ]
    },
    {
      "cell_type": "code",
      "metadata": {
        "id": "UWfl3tP5JXC9"
      },
      "source": [
        " Regressor3= DecisionTreeRegressor()\n"
      ],
      "execution_count": 68,
      "outputs": []
    },
    {
      "cell_type": "code",
      "metadata": {
        "colab": {
          "base_uri": "https://localhost:8080/"
        },
        "id": "UvjvlUve8nAM",
        "outputId": "0740f8b6-0ca9-43fc-ff61-c2500ec44734"
      },
      "source": [
        "Regressor3.fit(X_train, y_train)"
      ],
      "execution_count": 69,
      "outputs": [
        {
          "output_type": "execute_result",
          "data": {
            "text/plain": [
              "DecisionTreeRegressor(ccp_alpha=0.0, criterion='mse', max_depth=None,\n",
              "                      max_features=None, max_leaf_nodes=None,\n",
              "                      min_impurity_decrease=0.0, min_impurity_split=None,\n",
              "                      min_samples_leaf=1, min_samples_split=2,\n",
              "                      min_weight_fraction_leaf=0.0, presort='deprecated',\n",
              "                      random_state=None, splitter='best')"
            ]
          },
          "metadata": {},
          "execution_count": 69
        }
      ]
    },
    {
      "cell_type": "code",
      "metadata": {
        "id": "-r9jIYZEJpfg"
      },
      "source": [
        "# predictin on the test set\n",
        "y_pred3 =Regressor3.predict(X_test)"
      ],
      "execution_count": 70,
      "outputs": []
    },
    {
      "cell_type": "code",
      "metadata": {
        "colab": {
          "base_uri": "https://localhost:8080/"
        },
        "id": "KDvBf_mJJ1SQ",
        "outputId": "a6b22e35-305f-45c7-9753-95858d34ac38"
      },
      "source": [
        "# Calculate Model \n",
        "print(\"r2_score:\", r2_score(y_test, y_pred3))"
      ],
      "execution_count": 71,
      "outputs": [
        {
          "output_type": "stream",
          "name": "stdout",
          "text": [
            "r2_score: 0.707795504144283\n"
          ]
        }
      ]
    },
    {
      "cell_type": "markdown",
      "metadata": {
        "id": "87Qlf33JKAkN"
      },
      "source": [
        "## Conclusion:\n",
        "\n"
      ]
    },
    {
      "cell_type": "markdown",
      "metadata": {
        "id": "knbkpXPFLTOt"
      },
      "source": [
        "I Conclude that XGBoost Regressor is give me the good accuracy than linear regression algorithm and support vector machine algorithm gives very less accuracy, so XGBoost Regressor model it will be able to predict the proper medical costs."
      ]
    },
    {
      "cell_type": "code",
      "metadata": {
        "colab": {
          "base_uri": "https://localhost:8080/"
        },
        "id": "_KakyWS58zSx",
        "outputId": "4af9a124-462c-4077-bb5a-0d79da40ec3a"
      },
      "source": [
        "len(X.columns)"
      ],
      "execution_count": 72,
      "outputs": [
        {
          "output_type": "execute_result",
          "data": {
            "text/plain": [
              "7"
            ]
          },
          "metadata": {},
          "execution_count": 72
        }
      ]
    },
    {
      "cell_type": "code",
      "metadata": {
        "id": "f5RkYl9chTDZ"
      },
      "source": [
        "'''Xnew =df[age=28,sex=1,bmi=33,children=2,smoker=0]\n",
        "prediction=Regressor2.predict(Xnew)\n",
        "print(prediction)'''\n",
        "\n",
        "def predict_price(age,bmi,children,sex,smoker):    \n",
        "    loc_index = np.where(X.columns==smoker)[0]\n",
        "    x = np.zeros(len(X.columns))\n",
        "    x[0] = age\n",
        "    x[1] = bmi\n",
        "    x[2] = children\n",
        "   # x[3] = smoker\n",
        "    x[3] = sex\n",
        "    if loc_index >= 0:\n",
        "        x[loc_index] = 1\n",
        "\n",
        "    return Regressor2.predict([x])[0] #- '0' - is for give exact not in array format"
      ],
      "execution_count": 73,
      "outputs": []
    },
    {
      "cell_type": "code",
      "metadata": {
        "colab": {
          "base_uri": "https://localhost:8080/"
        },
        "id": "0cLcRNiDGJ1w",
        "outputId": "6b9f7acf-b4d7-434b-b1ef-fa3a142a509c"
      },
      "source": [
        "predict_price(28,33, 2, 1, 'yes')"
      ],
      "execution_count": 74,
      "outputs": [
        {
          "output_type": "stream",
          "name": "stderr",
          "text": [
            "/usr/local/lib/python3.7/dist-packages/ipykernel_launcher.py:13: DeprecationWarning: The truth value of an empty array is ambiguous. Returning False, but in future this will result in an error. Use `array.size > 0` to check that an array is not empty.\n",
            "  del sys.path[0]\n"
          ]
        },
        {
          "output_type": "execute_result",
          "data": {
            "text/plain": [
              "15567.677589999976"
            ]
          },
          "metadata": {},
          "execution_count": 74
        }
      ]
    },
    {
      "cell_type": "markdown",
      "metadata": {
        "id": "Yh314ZMHv18Y"
      },
      "source": [
        "## Save Model"
      ]
    },
    {
      "cell_type": "code",
      "metadata": {
        "id": "mseIKZAjhTS_"
      },
      "source": [
        "import pickle"
      ],
      "execution_count": 75,
      "outputs": []
    },
    {
      "cell_type": "code",
      "metadata": {
        "id": "9G3GPNezpTe4"
      },
      "source": [
        "filename = 'model.sav'"
      ],
      "execution_count": 76,
      "outputs": []
    },
    {
      "cell_type": "code",
      "metadata": {
        "id": "xSrUtzkGplwK"
      },
      "source": [
        "pickle.dump(Regressor2, open(filename, 'wb'))"
      ],
      "execution_count": 77,
      "outputs": []
    },
    {
      "cell_type": "code",
      "metadata": {
        "id": "b73ul5p2pvdI"
      },
      "source": [
        "load_model = pickle.load(open(filename, 'rb'))"
      ],
      "execution_count": 78,
      "outputs": []
    },
    {
      "cell_type": "code",
      "metadata": {
        "id": "Wx5mljgxpzL0"
      },
      "source": [
        "model_score= load_model.score(X_test,y_test)"
      ],
      "execution_count": 79,
      "outputs": []
    },
    {
      "cell_type": "code",
      "metadata": {
        "colab": {
          "base_uri": "https://localhost:8080/"
        },
        "id": "hLh9FcdGqHPT",
        "outputId": "5352ca1e-fae0-46ec-f23d-a77d52dbaef0"
      },
      "source": [
        "model_score"
      ],
      "execution_count": 80,
      "outputs": [
        {
          "output_type": "execute_result",
          "data": {
            "text/plain": [
              "0.8571115760951832"
            ]
          },
          "metadata": {},
          "execution_count": 80
        }
      ]
    },
    {
      "cell_type": "code",
      "metadata": {
        "id": "1LpZPct5qnUB"
      },
      "source": [
        ""
      ],
      "execution_count": 80,
      "outputs": []
    }
  ]
}